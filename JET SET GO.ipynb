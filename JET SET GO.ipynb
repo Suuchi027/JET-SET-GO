{
 "cells": [
  {
   "cell_type": "code",
   "execution_count": 304,
   "id": "48c758ef",
   "metadata": {},
   "outputs": [],
   "source": [
    "import pandas as pd\n",
    "import numpy as np\n",
    "import matplotlib.pyplot as plt\n",
    "import seaborn as sns"
   ]
  },
  {
   "cell_type": "code",
   "execution_count": 305,
   "id": "97e7a7af",
   "metadata": {},
   "outputs": [],
   "source": [
    "# Load the datasets\n",
    "flight_df = pd.read_csv(\"Flight Level Data.csv\")\n",
    "bag_df = pd.read_csv(\"Bag+Level+Data.csv\")\n",
    "pnr_flight_df = pd.read_csv(\"PNR+Flight+Level+Data.csv\")\n",
    "pnr_remark_df = pd.read_csv(\"PNR Remark Level Data.csv\")\n",
    "airports_df = pd.read_csv(\"Airports Data.csv\")"
   ]
  },
  {
   "cell_type": "code",
   "execution_count": 306,
   "id": "0e5c28c4",
   "metadata": {},
   "outputs": [
    {
     "name": "stdout",
     "output_type": "stream",
     "text": [
      "<class 'pandas.core.frame.DataFrame'>\n",
      "RangeIndex: 8099 entries, 0 to 8098\n",
      "Data columns (total 15 columns):\n",
      " #   Column                              Non-Null Count  Dtype \n",
      "---  ------                              --------------  ----- \n",
      " 0   company_id                          8099 non-null   object\n",
      " 1   flight_number                       8099 non-null   int64 \n",
      " 2   scheduled_departure_date_local      8099 non-null   object\n",
      " 3   scheduled_departure_station_code    8099 non-null   object\n",
      " 4   scheduled_arrival_station_code      8099 non-null   object\n",
      " 5   scheduled_departure_datetime_local  8099 non-null   object\n",
      " 6   scheduled_arrival_datetime_local    8099 non-null   object\n",
      " 7   actual_departure_datetime_local     8099 non-null   object\n",
      " 8   actual_arrival_datetime_local       8099 non-null   object\n",
      " 9   total_seats                         8099 non-null   int64 \n",
      " 10  fleet_type                          8099 non-null   object\n",
      " 11  carrier                             8099 non-null   object\n",
      " 12  scheduled_ground_time_minutes       8099 non-null   int64 \n",
      " 13  actual_ground_time_minutes          8099 non-null   int64 \n",
      " 14  minimum_turn_minutes                8099 non-null   int64 \n",
      "dtypes: int64(5), object(10)\n",
      "memory usage: 949.2+ KB\n"
     ]
    }
   ],
   "source": [
    "#overview of a DataFrame\n",
    "flight_df.info()"
   ]
  },
  {
   "cell_type": "code",
   "execution_count": 307,
   "id": "e6ae2174",
   "metadata": {},
   "outputs": [
    {
     "name": "stdout",
     "output_type": "stream",
     "text": [
      "<class 'pandas.core.frame.DataFrame'>\n",
      "RangeIndex: 687245 entries, 0 to 687244\n",
      "Data columns (total 8 columns):\n",
      " #   Column                            Non-Null Count   Dtype \n",
      "---  ------                            --------------   ----- \n",
      " 0   company_id                        687245 non-null  object\n",
      " 1   flight_number                     687245 non-null  int64 \n",
      " 2   scheduled_departure_date_local    687245 non-null  object\n",
      " 3   scheduled_departure_station_code  687245 non-null  object\n",
      " 4   scheduled_arrival_station_code    687245 non-null  object\n",
      " 5   bag_tag_unique_number             687245 non-null  object\n",
      " 6   bag_tag_issue_date                687245 non-null  object\n",
      " 7   bag_type                          687245 non-null  object\n",
      "dtypes: int64(1), object(7)\n",
      "memory usage: 41.9+ MB\n"
     ]
    }
   ],
   "source": [
    "bag_df.info()"
   ]
  },
  {
   "cell_type": "code",
   "execution_count": 308,
   "id": "97e8dc13",
   "metadata": {},
   "outputs": [
    {
     "name": "stdout",
     "output_type": "stream",
     "text": [
      "<class 'pandas.core.frame.DataFrame'>\n",
      "RangeIndex: 687878 entries, 0 to 687877\n",
      "Data columns (total 12 columns):\n",
      " #   Column                            Non-Null Count   Dtype \n",
      "---  ------                            --------------   ----- \n",
      " 0   company_id                        687878 non-null  object\n",
      " 1   flight_number                     687878 non-null  int64 \n",
      " 2   scheduled_departure_date_local    687878 non-null  object\n",
      " 3   scheduled_departure_station_code  687878 non-null  object\n",
      " 4   scheduled_arrival_station_code    687878 non-null  object\n",
      " 5   record_locator                    687878 non-null  object\n",
      " 6   pnr_creation_date                 687878 non-null  object\n",
      " 7   total_pax                         687878 non-null  int64 \n",
      " 8   is_child                          687878 non-null  object\n",
      " 9   basic_economy_ind                 687878 non-null  int64 \n",
      " 10  is_stroller_user                  687878 non-null  object\n",
      " 11  lap_child_count                   687878 non-null  int64 \n",
      "dtypes: int64(4), object(8)\n",
      "memory usage: 63.0+ MB\n"
     ]
    }
   ],
   "source": [
    "pnr_flight_df.info()"
   ]
  },
  {
   "cell_type": "code",
   "execution_count": 309,
   "id": "8d994ac0",
   "metadata": {},
   "outputs": [
    {
     "name": "stdout",
     "output_type": "stream",
     "text": [
      "<class 'pandas.core.frame.DataFrame'>\n",
      "RangeIndex: 51698 entries, 0 to 51697\n",
      "Data columns (total 4 columns):\n",
      " #   Column                   Non-Null Count  Dtype \n",
      "---  ------                   --------------  ----- \n",
      " 0   record_locator           51698 non-null  object\n",
      " 1   pnr_creation_date        51698 non-null  object\n",
      " 2   flight_number            51698 non-null  int64 \n",
      " 3   special_service_request  51698 non-null  object\n",
      "dtypes: int64(1), object(3)\n",
      "memory usage: 1.6+ MB\n"
     ]
    }
   ],
   "source": [
    "pnr_remark_df.info()"
   ]
  },
  {
   "cell_type": "code",
   "execution_count": 310,
   "id": "e8473268",
   "metadata": {},
   "outputs": [
    {
     "name": "stdout",
     "output_type": "stream",
     "text": [
      "<class 'pandas.core.frame.DataFrame'>\n",
      "RangeIndex: 5612 entries, 0 to 5611\n",
      "Data columns (total 2 columns):\n",
      " #   Column             Non-Null Count  Dtype \n",
      "---  ------             --------------  ----- \n",
      " 0   airport_iata_code  5612 non-null   object\n",
      " 1   iso_country_code   5597 non-null   object\n",
      "dtypes: object(2)\n",
      "memory usage: 87.8+ KB\n"
     ]
    }
   ],
   "source": [
    "airports_df.info()"
   ]
  },
  {
   "cell_type": "code",
   "execution_count": 311,
   "id": "e0acce1f",
   "metadata": {},
   "outputs": [
    {
     "name": "stdout",
     "output_type": "stream",
     "text": [
      "Original number of missing 'iso_country_code' values: 15\n",
      "\n",
      "--- Data Info After Fix ---\n",
      "<class 'pandas.core.frame.DataFrame'>\n",
      "RangeIndex: 5612 entries, 0 to 5611\n",
      "Data columns (total 2 columns):\n",
      " #   Column             Non-Null Count  Dtype \n",
      "---  ------             --------------  ----- \n",
      " 0   airport_iata_code  5612 non-null   object\n",
      " 1   iso_country_code   5612 non-null   object\n",
      "dtypes: object(2)\n",
      "memory usage: 87.8+ KB\n",
      "\n",
      "First 5 rows (showing the fix if any were missing in the head):\n",
      "  airport_iata_code iso_country_code\n",
      "0               DAU               PG\n",
      "1               MDU               PG\n",
      "2               MXH               PG\n",
      "3               MIS               PG\n",
      "4               TIZ               PG\n"
     ]
    }
   ],
   "source": [
    "# Display the current missing value count\n",
    "missing_count = airports_df['iso_country_code'].isnull().sum()\n",
    "print(f\"Original number of missing 'iso_country_code' values: {missing_count}\\n\")\n",
    "\n",
    "# 2. The Fix: Impute missing country codes with 'UNKNOWN'\n",
    "# This retains all 5612 airport entries while marking the missing data clearly.\n",
    "airports_df['iso_country_code'] = airports_df['iso_country_code'].fillna('UNKNOWN')\n",
    "\n",
    "# 3. Verify the fix\n",
    "print(\"--- Data Info After Fix ---\")\n",
    "airports_df.info()\n",
    "print(\"\\nFirst 5 rows (showing the fix if any were missing in the head):\")\n",
    "print(airports_df.head())"
   ]
  },
  {
   "cell_type": "code",
   "execution_count": 312,
   "id": "d83c2221",
   "metadata": {},
   "outputs": [
    {
     "data": {
      "text/html": [
       "<div>\n",
       "<style scoped>\n",
       "    .dataframe tbody tr th:only-of-type {\n",
       "        vertical-align: middle;\n",
       "    }\n",
       "\n",
       "    .dataframe tbody tr th {\n",
       "        vertical-align: top;\n",
       "    }\n",
       "\n",
       "    .dataframe thead th {\n",
       "        text-align: right;\n",
       "    }\n",
       "</style>\n",
       "<table border=\"1\" class=\"dataframe\">\n",
       "  <thead>\n",
       "    <tr style=\"text-align: right;\">\n",
       "      <th></th>\n",
       "      <th>company_id</th>\n",
       "      <th>flight_number</th>\n",
       "      <th>scheduled_departure_date_local</th>\n",
       "      <th>scheduled_departure_station_code</th>\n",
       "      <th>scheduled_arrival_station_code</th>\n",
       "      <th>scheduled_departure_datetime_local</th>\n",
       "      <th>scheduled_arrival_datetime_local</th>\n",
       "      <th>actual_departure_datetime_local</th>\n",
       "      <th>actual_arrival_datetime_local</th>\n",
       "      <th>total_seats</th>\n",
       "      <th>fleet_type</th>\n",
       "      <th>carrier</th>\n",
       "      <th>scheduled_ground_time_minutes</th>\n",
       "      <th>actual_ground_time_minutes</th>\n",
       "      <th>minimum_turn_minutes</th>\n",
       "    </tr>\n",
       "  </thead>\n",
       "  <tbody>\n",
       "    <tr>\n",
       "      <th>0</th>\n",
       "      <td>False</td>\n",
       "      <td>False</td>\n",
       "      <td>False</td>\n",
       "      <td>False</td>\n",
       "      <td>False</td>\n",
       "      <td>False</td>\n",
       "      <td>False</td>\n",
       "      <td>False</td>\n",
       "      <td>False</td>\n",
       "      <td>False</td>\n",
       "      <td>False</td>\n",
       "      <td>False</td>\n",
       "      <td>False</td>\n",
       "      <td>False</td>\n",
       "      <td>False</td>\n",
       "    </tr>\n",
       "    <tr>\n",
       "      <th>1</th>\n",
       "      <td>False</td>\n",
       "      <td>False</td>\n",
       "      <td>False</td>\n",
       "      <td>False</td>\n",
       "      <td>False</td>\n",
       "      <td>False</td>\n",
       "      <td>False</td>\n",
       "      <td>False</td>\n",
       "      <td>False</td>\n",
       "      <td>False</td>\n",
       "      <td>False</td>\n",
       "      <td>False</td>\n",
       "      <td>False</td>\n",
       "      <td>False</td>\n",
       "      <td>False</td>\n",
       "    </tr>\n",
       "    <tr>\n",
       "      <th>2</th>\n",
       "      <td>False</td>\n",
       "      <td>False</td>\n",
       "      <td>False</td>\n",
       "      <td>False</td>\n",
       "      <td>False</td>\n",
       "      <td>False</td>\n",
       "      <td>False</td>\n",
       "      <td>False</td>\n",
       "      <td>False</td>\n",
       "      <td>False</td>\n",
       "      <td>False</td>\n",
       "      <td>False</td>\n",
       "      <td>False</td>\n",
       "      <td>False</td>\n",
       "      <td>False</td>\n",
       "    </tr>\n",
       "    <tr>\n",
       "      <th>3</th>\n",
       "      <td>False</td>\n",
       "      <td>False</td>\n",
       "      <td>False</td>\n",
       "      <td>False</td>\n",
       "      <td>False</td>\n",
       "      <td>False</td>\n",
       "      <td>False</td>\n",
       "      <td>False</td>\n",
       "      <td>False</td>\n",
       "      <td>False</td>\n",
       "      <td>False</td>\n",
       "      <td>False</td>\n",
       "      <td>False</td>\n",
       "      <td>False</td>\n",
       "      <td>False</td>\n",
       "    </tr>\n",
       "    <tr>\n",
       "      <th>4</th>\n",
       "      <td>False</td>\n",
       "      <td>False</td>\n",
       "      <td>False</td>\n",
       "      <td>False</td>\n",
       "      <td>False</td>\n",
       "      <td>False</td>\n",
       "      <td>False</td>\n",
       "      <td>False</td>\n",
       "      <td>False</td>\n",
       "      <td>False</td>\n",
       "      <td>False</td>\n",
       "      <td>False</td>\n",
       "      <td>False</td>\n",
       "      <td>False</td>\n",
       "      <td>False</td>\n",
       "    </tr>\n",
       "    <tr>\n",
       "      <th>...</th>\n",
       "      <td>...</td>\n",
       "      <td>...</td>\n",
       "      <td>...</td>\n",
       "      <td>...</td>\n",
       "      <td>...</td>\n",
       "      <td>...</td>\n",
       "      <td>...</td>\n",
       "      <td>...</td>\n",
       "      <td>...</td>\n",
       "      <td>...</td>\n",
       "      <td>...</td>\n",
       "      <td>...</td>\n",
       "      <td>...</td>\n",
       "      <td>...</td>\n",
       "      <td>...</td>\n",
       "    </tr>\n",
       "    <tr>\n",
       "      <th>8094</th>\n",
       "      <td>False</td>\n",
       "      <td>False</td>\n",
       "      <td>False</td>\n",
       "      <td>False</td>\n",
       "      <td>False</td>\n",
       "      <td>False</td>\n",
       "      <td>False</td>\n",
       "      <td>False</td>\n",
       "      <td>False</td>\n",
       "      <td>False</td>\n",
       "      <td>False</td>\n",
       "      <td>False</td>\n",
       "      <td>False</td>\n",
       "      <td>False</td>\n",
       "      <td>False</td>\n",
       "    </tr>\n",
       "    <tr>\n",
       "      <th>8095</th>\n",
       "      <td>False</td>\n",
       "      <td>False</td>\n",
       "      <td>False</td>\n",
       "      <td>False</td>\n",
       "      <td>False</td>\n",
       "      <td>False</td>\n",
       "      <td>False</td>\n",
       "      <td>False</td>\n",
       "      <td>False</td>\n",
       "      <td>False</td>\n",
       "      <td>False</td>\n",
       "      <td>False</td>\n",
       "      <td>False</td>\n",
       "      <td>False</td>\n",
       "      <td>False</td>\n",
       "    </tr>\n",
       "    <tr>\n",
       "      <th>8096</th>\n",
       "      <td>False</td>\n",
       "      <td>False</td>\n",
       "      <td>False</td>\n",
       "      <td>False</td>\n",
       "      <td>False</td>\n",
       "      <td>False</td>\n",
       "      <td>False</td>\n",
       "      <td>False</td>\n",
       "      <td>False</td>\n",
       "      <td>False</td>\n",
       "      <td>False</td>\n",
       "      <td>False</td>\n",
       "      <td>False</td>\n",
       "      <td>False</td>\n",
       "      <td>False</td>\n",
       "    </tr>\n",
       "    <tr>\n",
       "      <th>8097</th>\n",
       "      <td>False</td>\n",
       "      <td>False</td>\n",
       "      <td>False</td>\n",
       "      <td>False</td>\n",
       "      <td>False</td>\n",
       "      <td>False</td>\n",
       "      <td>False</td>\n",
       "      <td>False</td>\n",
       "      <td>False</td>\n",
       "      <td>False</td>\n",
       "      <td>False</td>\n",
       "      <td>False</td>\n",
       "      <td>False</td>\n",
       "      <td>False</td>\n",
       "      <td>False</td>\n",
       "    </tr>\n",
       "    <tr>\n",
       "      <th>8098</th>\n",
       "      <td>False</td>\n",
       "      <td>False</td>\n",
       "      <td>False</td>\n",
       "      <td>False</td>\n",
       "      <td>False</td>\n",
       "      <td>False</td>\n",
       "      <td>False</td>\n",
       "      <td>False</td>\n",
       "      <td>False</td>\n",
       "      <td>False</td>\n",
       "      <td>False</td>\n",
       "      <td>False</td>\n",
       "      <td>False</td>\n",
       "      <td>False</td>\n",
       "      <td>False</td>\n",
       "    </tr>\n",
       "  </tbody>\n",
       "</table>\n",
       "<p>8099 rows × 15 columns</p>\n",
       "</div>"
      ],
      "text/plain": [
       "      company_id  flight_number  scheduled_departure_date_local  \\\n",
       "0          False          False                           False   \n",
       "1          False          False                           False   \n",
       "2          False          False                           False   \n",
       "3          False          False                           False   \n",
       "4          False          False                           False   \n",
       "...          ...            ...                             ...   \n",
       "8094       False          False                           False   \n",
       "8095       False          False                           False   \n",
       "8096       False          False                           False   \n",
       "8097       False          False                           False   \n",
       "8098       False          False                           False   \n",
       "\n",
       "      scheduled_departure_station_code  scheduled_arrival_station_code  \\\n",
       "0                                False                           False   \n",
       "1                                False                           False   \n",
       "2                                False                           False   \n",
       "3                                False                           False   \n",
       "4                                False                           False   \n",
       "...                                ...                             ...   \n",
       "8094                             False                           False   \n",
       "8095                             False                           False   \n",
       "8096                             False                           False   \n",
       "8097                             False                           False   \n",
       "8098                             False                           False   \n",
       "\n",
       "      scheduled_departure_datetime_local  scheduled_arrival_datetime_local  \\\n",
       "0                                  False                             False   \n",
       "1                                  False                             False   \n",
       "2                                  False                             False   \n",
       "3                                  False                             False   \n",
       "4                                  False                             False   \n",
       "...                                  ...                               ...   \n",
       "8094                               False                             False   \n",
       "8095                               False                             False   \n",
       "8096                               False                             False   \n",
       "8097                               False                             False   \n",
       "8098                               False                             False   \n",
       "\n",
       "      actual_departure_datetime_local  actual_arrival_datetime_local  \\\n",
       "0                               False                          False   \n",
       "1                               False                          False   \n",
       "2                               False                          False   \n",
       "3                               False                          False   \n",
       "4                               False                          False   \n",
       "...                               ...                            ...   \n",
       "8094                            False                          False   \n",
       "8095                            False                          False   \n",
       "8096                            False                          False   \n",
       "8097                            False                          False   \n",
       "8098                            False                          False   \n",
       "\n",
       "      total_seats  fleet_type  carrier  scheduled_ground_time_minutes  \\\n",
       "0           False       False    False                          False   \n",
       "1           False       False    False                          False   \n",
       "2           False       False    False                          False   \n",
       "3           False       False    False                          False   \n",
       "4           False       False    False                          False   \n",
       "...           ...         ...      ...                            ...   \n",
       "8094        False       False    False                          False   \n",
       "8095        False       False    False                          False   \n",
       "8096        False       False    False                          False   \n",
       "8097        False       False    False                          False   \n",
       "8098        False       False    False                          False   \n",
       "\n",
       "      actual_ground_time_minutes  minimum_turn_minutes  \n",
       "0                          False                 False  \n",
       "1                          False                 False  \n",
       "2                          False                 False  \n",
       "3                          False                 False  \n",
       "4                          False                 False  \n",
       "...                          ...                   ...  \n",
       "8094                       False                 False  \n",
       "8095                       False                 False  \n",
       "8096                       False                 False  \n",
       "8097                       False                 False  \n",
       "8098                       False                 False  \n",
       "\n",
       "[8099 rows x 15 columns]"
      ]
     },
     "execution_count": 312,
     "metadata": {},
     "output_type": "execute_result"
    }
   ],
   "source": [
    "# used to count the total number of missing values in each column\n",
    "flight_df.isnull()"
   ]
  },
  {
   "cell_type": "code",
   "execution_count": 313,
   "id": "2c5dca11",
   "metadata": {},
   "outputs": [
    {
     "data": {
      "text/plain": [
       "company_id                          0\n",
       "flight_number                       0\n",
       "scheduled_departure_date_local      0\n",
       "scheduled_departure_station_code    0\n",
       "scheduled_arrival_station_code      0\n",
       "bag_tag_unique_number               0\n",
       "bag_tag_issue_date                  0\n",
       "bag_type                            0\n",
       "dtype: int64"
      ]
     },
     "execution_count": 313,
     "metadata": {},
     "output_type": "execute_result"
    }
   ],
   "source": [
    "bag_df.isnull().sum()"
   ]
  },
  {
   "cell_type": "code",
   "execution_count": 314,
   "id": "54d6b923",
   "metadata": {},
   "outputs": [
    {
     "data": {
      "text/plain": [
       "airport_iata_code    0\n",
       "iso_country_code     0\n",
       "dtype: int64"
      ]
     },
     "execution_count": 314,
     "metadata": {},
     "output_type": "execute_result"
    }
   ],
   "source": [
    "airports_df.isnull().sum()"
   ]
  },
  {
   "cell_type": "code",
   "execution_count": 315,
   "id": "4f1a12ac",
   "metadata": {},
   "outputs": [],
   "source": [
    "# 1. Feature Engineering on Flight Data\n",
    "# Convert time columns to datetime objects\n",
    "time_cols = [\n",
    "    'scheduled_departure_datetime_local',\n",
    "    'scheduled_arrival_datetime_local',\n",
    "    'actual_departure_datetime_local',\n",
    "    'actual_arrival_datetime_local'\n",
    "]\n",
    "for col in time_cols:\n",
    "    flight_df[col] = pd.to_datetime(flight_df[col], errors='coerce')"
   ]
  },
  {
   "cell_type": "code",
   "execution_count": 316,
   "id": "ab0b55d1",
   "metadata": {},
   "outputs": [],
   "source": [
    "# Calculate Actual Delay (in minutes): Positive value means delayed departure\n",
    "flight_df['actual_delay_minutes'] = (\n",
    "    flight_df['actual_departure_datetime_local'] -\n",
    "    flight_df['scheduled_departure_datetime_local']\n",
    ").dt.total_seconds() / 60"
   ]
  },
  {
   "cell_type": "code",
   "execution_count": 317,
   "id": "054a3866",
   "metadata": {},
   "outputs": [],
   "source": [
    "# Identify Delayed Flights (using a common industry standard of > 15 mins, \n",
    "#but for this problem, we'll use > 0 for 'later than scheduled')\n",
    "flight_df['is_delayed'] = flight_df['actual_delay_minutes'] > 0"
   ]
  },
  {
   "cell_type": "code",
   "execution_count": 318,
   "id": "c1604123",
   "metadata": {},
   "outputs": [],
   "source": [
    "# Merge Flight and PNR Remark Data to get SSR counts\n",
    "# Note: PNR Remark has multiple entries per PNR/Flight. We need to group it.\n",
    "pnr_remark_counts = pnr_remark_df.groupby(['record_locator', 'flight_number']).size().reset_index(name='ssr_count_per_pnr')\n"
   ]
  },
  {
   "cell_type": "code",
   "execution_count": 319,
   "id": "77f41bd0",
   "metadata": {},
   "outputs": [],
   "source": [
    "# The PNR Flight data has PNR-level details like total_pax and is_child.\n",
    "# First, group PNR flight data by the flight identifier and aggregate relevant features.\n",
    "pnr_agg = pnr_flight_df.groupby(['company_id', 'flight_number', 'scheduled_departure_date_local', \n",
    "                                 'scheduled_departure_station_code', 'scheduled_arrival_station_code']).agg(\n",
    "    total_pax_sum=('total_pax', 'sum'),\n",
    "    child_pax_count=('is_child', lambda x: (x == 'Y').sum()),\n",
    "    stroller_count=('is_stroller_user', lambda x: (x == 'Y').sum()),\n",
    "    lap_child_count_sum=('lap_child_count', 'sum'),\n",
    ").reset_index()\n"
   ]
  },
  {
   "cell_type": "code",
   "execution_count": 320,
   "id": "7bdec6b5",
   "metadata": {},
   "outputs": [],
   "source": [
    "# Merge PNR Aggregated data with Flight data\n",
    "base_df = pd.merge(\n",
    "    flight_df, pnr_agg,\n",
    "    on=['company_id', 'flight_number', 'scheduled_departure_date_local', 'scheduled_departure_station_code', \n",
    "        'scheduled_arrival_station_code'],\n",
    "    how='left'\n",
    ")\n",
    "# Fill NaN for total_pax_sum with total_seats as an estimate if PNR data is missing\n",
    "base_df['total_pax_sum'] = base_df['total_pax_sum'].fillna(base_df['total_seats'])\n"
   ]
  },
  {
   "cell_type": "code",
   "execution_count": 321,
   "id": "77e7fbf4",
   "metadata": {},
   "outputs": [],
   "source": [
    "# 2. Feature Engineering on Bag Data\n",
    "# Separate bag types\n",
    "bag_counts = bag_df.groupby(['company_id', 'flight_number', 'scheduled_departure_date_local', 'scheduled_departure_station_code', \n",
    "                             'scheduled_arrival_station_code', 'bag_type']).size().reset_index(name='bag_count')\n",
    "\n",
    "# Pivot the table to get separate columns for 'Origin' (checked) and 'Transfer' bags\n",
    "bag_pivot = bag_counts.pivot_table(\n",
    "    index=['company_id', 'flight_number', 'scheduled_departure_date_local', 'scheduled_departure_station_code', \n",
    "           'scheduled_arrival_station_code'],\n",
    "    columns='bag_type',\n",
    "    values='bag_count',\n",
    "    fill_value=0\n",
    ").reset_index()\n",
    "\n",
    "# Rename columns for clarity\n",
    "bag_pivot.rename(columns={'Origin': 'checked_bags_count', 'Transfer': 'transfer_bags_count'}, inplace=True)\n",
    "\n",
    "# Merge Bag data into the base_df\n",
    "base_df = pd.merge(\n",
    "    base_df, bag_pivot,\n",
    "    on=['company_id', 'flight_number', 'scheduled_departure_date_local', 'scheduled_departure_station_code', \n",
    "        'scheduled_arrival_station_code'],\n",
    "    how='left'\n",
    ")\n",
    "# Fill NaN bag counts with 0\n",
    "base_df[['checked_bags_count', 'transfer_bags_count']] = base_df[['checked_bags_count', 'transfer_bags_count']].fillna(0)\n",
    "base_df['total_bags_count'] = base_df['checked_bags_count'] + base_df['transfer_bags_count']"
   ]
  },
  {
   "cell_type": "markdown",
   "id": "75e19ad1",
   "metadata": {},
   "source": [
    "# EDA Question "
   ]
  },
  {
   "cell_type": "markdown",
   "id": "7515f046",
   "metadata": {},
   "source": [
    "## 1. What is the average delay and what percentage of flights depart later than scheduled?"
   ]
  },
  {
   "cell_type": "code",
   "execution_count": 322,
   "id": "e691ded2",
   "metadata": {},
   "outputs": [
    {
     "name": "stdout",
     "output_type": "stream",
     "text": [
      "Average Departure Delay: 21.18 minutes\n",
      "Percentage of flights departing later than scheduled: 49.61%\n"
     ]
    }
   ],
   "source": [
    "avg_delay = base_df['actual_delay_minutes'].mean()\n",
    "percentage_delayed = (base_df['is_delayed'].sum() / len(base_df)) * 100\n",
    "\n",
    "print(f\"Average Departure Delay: {avg_delay:.2f} minutes\")\n",
    "print(f\"Percentage of flights departing later than scheduled: {percentage_delayed:.2f}%\")"
   ]
  },
  {
   "cell_type": "markdown",
   "id": "bd5bbd44",
   "metadata": {},
   "source": [
    "## 2. How many flights have scheduled ground time close to or below the minimum turn mins?"
   ]
  },
  {
   "cell_type": "markdown",
   "id": "863b63e3",
   "metadata": {},
   "source": [
    "### \"Close to or below\" can be defined as Scheduled Ground Time ≤ Minimum Turn Minutes + 5 minutes (a small buffer)."
   ]
  },
  {
   "cell_type": "code",
   "execution_count": 323,
   "id": "d79276f1",
   "metadata": {},
   "outputs": [
    {
     "name": "stdout",
     "output_type": "stream",
     "text": [
      "Number of flights with tight turn times (Sched Ground <= Min Turn + 5 mins): 780\n",
      "Percentage of all flights: 9.63%\n"
     ]
    }
   ],
   "source": [
    "# Filter for flights where scheduled ground time is below or close to minimum turn minutes\n",
    "tight_turn_flights = base_df[base_df['scheduled_ground_time_minutes'] <= base_df['minimum_turn_minutes'] + 5]\n",
    "num_tight_turns = len(tight_turn_flights)\n",
    "percent_tight_turns = (num_tight_turns / len(base_df)) * 100\n",
    "\n",
    "print(f\"Number of flights with tight turn times (Sched Ground <= Min Turn + 5 mins): {num_tight_turns}\")\n",
    "print(f\"Percentage of all flights: {percent_tight_turns:.2f}%\")"
   ]
  },
  {
   "cell_type": "markdown",
   "id": "d8761667",
   "metadata": {},
   "source": [
    "## 3. What is the average ratio of transfer bags vs. checked bags across flights?\n"
   ]
  },
  {
   "cell_type": "code",
   "execution_count": 324,
   "id": "31a3a15a",
   "metadata": {},
   "outputs": [
    {
     "name": "stdout",
     "output_type": "stream",
     "text": [
      "Average Transfer Bags vs. Checked Bags (Origin) Ratio (excluding flights with 0 checked bags): 3.04\n"
     ]
    }
   ],
   "source": [
    "# Calculate the ratio, handling division by zero (assigning 0 or NaN if needed, or 100 for high transfer ratio if checked_bags_count is 0)\n",
    "# A safer approach is to calculate the average of the ratio for flights that have at least one checked bag\n",
    "bag_ratio_df = base_df[base_df['checked_bags_count'] > 0].copy()\n",
    "bag_ratio_df['transfer_vs_checked_ratio'] = bag_ratio_df['transfer_bags_count'] / bag_ratio_df['checked_bags_count']\n",
    "\n",
    "avg_transfer_checked_ratio = bag_ratio_df['transfer_vs_checked_ratio'].mean()\n",
    "\n",
    "print(f\"Average Transfer Bags vs. Checked Bags (Origin) Ratio (excluding flights with 0 checked bags): {avg_transfer_checked_ratio:.2f}\")"
   ]
  },
  {
   "cell_type": "markdown",
   "id": "b26cc8d4",
   "metadata": {},
   "source": [
    "## 4. How do passenger loads compare across flights, and do higher loads correlate with operational difficulty?"
   ]
  },
  {
   "cell_type": "code",
   "execution_count": 325,
   "id": "8beaeb21",
   "metadata": {},
   "outputs": [
    {
     "name": "stdout",
     "output_type": "stream",
     "text": [
      "\n",
      "Passenger Load Factor Distribution:\n",
      "count    8099.000000\n",
      "mean        1.024236\n",
      "std         0.209837\n",
      "min         0.060000\n",
      "25%         0.940000\n",
      "50%         1.047619\n",
      "75%         1.145251\n",
      "max         1.895000\n",
      "Name: load_factor, dtype: float64\n",
      "\n",
      "Correlation between Load Factor and Actual Departure Delay (minutes): -0.1502\n"
     ]
    }
   ],
   "source": [
    "#First, calculate Load Factor and a measure of operational difficulty (Actual Delay).\n",
    "\n",
    "base_df['load_factor'] = base_df['total_pax_sum'] / base_df['total_seats']\n",
    "base_df['load_factor'] = base_df['load_factor'].replace([np.inf, -np.inf], 0).fillna(0)\n",
    "\n",
    "# Descriptive statistics for Load Factor\n",
    "print(\"\\nPassenger Load Factor Distribution:\")\n",
    "print(base_df['load_factor'].describe())\n",
    "\n",
    "# Correlation between Load Factor and Delay\n",
    "load_delay_correlation = base_df['load_factor'].corr(base_df['actual_delay_minutes'])\n",
    "\n",
    "print(f\"\\nCorrelation between Load Factor and Actual Departure Delay (minutes): {load_delay_correlation:.4f}\")"
   ]
  },
  {
   "cell_type": "markdown",
   "id": "a375c637",
   "metadata": {},
   "source": [
    "## 5. Are high special service requests flights also high-delay after controlling for load?"
   ]
  },
  {
   "cell_type": "code",
   "execution_count": 326,
   "id": "847c1b10",
   "metadata": {},
   "outputs": [
    {
     "name": "stdout",
     "output_type": "stream",
     "text": [
      "\n",
      "Correlation between SSR/PAX Ratio and Actual Departure Delay (minutes): 0.0594\n"
     ]
    }
   ],
   "source": [
    "# Merge PNR Remark data with PNR Flight data to link SSRs to flights\n",
    "pnr_ssr_merged = pd.merge(\n",
    "    pnr_flight_df[['company_id', 'flight_number', 'scheduled_departure_date_local', 'scheduled_arrival_station_code', 'record_locator']].drop_duplicates(),\n",
    "    pnr_remark_df[['record_locator', 'special_service_request']].drop_duplicates(),\n",
    "    on='record_locator',\n",
    "    how='inner'\n",
    ")\n",
    "\n",
    "# Count the number of unique PNRs with ANY SSR per flight\n",
    "ssr_agg = pnr_ssr_merged.groupby(['company_id', 'flight_number', 'scheduled_departure_date_local', 'scheduled_arrival_station_code']).agg(\n",
    "    total_pax_with_ssr=('record_locator', 'nunique')\n",
    ").reset_index()\n",
    "\n",
    "# Merge SSR count into base_df\n",
    "base_df = pd.merge(\n",
    "    base_df, ssr_agg,\n",
    "    on=['company_id', 'flight_number', 'scheduled_departure_date_local', 'scheduled_arrival_station_code'],\n",
    "    how='left'\n",
    ")\n",
    "base_df['total_pax_with_ssr'] = base_df['total_pax_with_ssr'].fillna(0)\n",
    "\n",
    "# Feature: SSR to PAX Ratio\n",
    "base_df['ssr_pax_ratio'] = base_df['total_pax_with_ssr'] / base_df['total_pax_sum']\n",
    "base_df['ssr_pax_ratio'] = base_df['ssr_pax_ratio'].replace([np.inf, -np.inf], 0).fillna(0)\n",
    "\n",
    "# Correlation between SSR Ratio and Delay\n",
    "ssr_delay_correlation = base_df['ssr_pax_ratio'].corr(base_df['actual_delay_minutes'])\n",
    "print(f\"\\nCorrelation between SSR/PAX Ratio and Actual Departure Delay (minutes): {ssr_delay_correlation:.4f}\")"
   ]
  },
  {
   "cell_type": "markdown",
   "id": "322aaaf5",
   "metadata": {},
   "source": [
    "# 2. Flight Difficulty Score Development\n"
   ]
  },
  {
   "cell_type": "markdown",
   "id": "ca06cdae",
   "metadata": {},
   "source": [
    "### Tight Turn Score: A normalized inverse measure of ground time.\n",
    "\n",
    "Tight Turn Score=Min Turn Mins / Scheduled Ground Time\n",
    "\n",
    "We should cap the score to avoid excessively high values from very short ground times. A value ≥1 means the turn is scheduled below the minimum standard."
   ]
  },
  {
   "cell_type": "code",
   "execution_count": 327,
   "id": "c5eed05a",
   "metadata": {},
   "outputs": [],
   "source": [
    "# 1. Tight Turn Score\n",
    "base_df['tight_turn_ratio'] = base_df['minimum_turn_minutes'] / base_df['scheduled_ground_time_minutes']\n",
    "base_df['tight_turn_ratio'] = base_df['tight_turn_ratio'].replace([np.inf, -np.inf], 0).fillna(0)\n",
    "# Cap the ratio at 2.0 (e.g., if Min Turn is 2x Sched Ground)\n",
    "base_df['tight_turn_score'] = base_df['tight_turn_ratio'].clip(upper=2.0)\n",
    "\n",
    "# 2. Total Bags Score (already calculated as 'total_bags_count')\n",
    "\n",
    "# 3. Passenger Load Factor (already calculated as 'load_factor')\n",
    "\n",
    "# 4. SSR to PAX Ratio (already calculated as 'ssr_pax_ratio')\n",
    "\n",
    "# 5. International Indicator\n",
    "# Merge with Airports Data to get the country code for the arrival station\n",
    "base_df = pd.merge(\n",
    "    base_df,\n",
    "    airports_df.rename(columns={'airport_iata_code': 'scheduled_arrival_station_code', 'iso_country_code': 'arrival_country_code'}),\n",
    "    on='scheduled_arrival_station_code',\n",
    "    how='left'\n",
    ")\n",
    "# Assume ORD is in the US (US) and flag non-US flights as International\n",
    "base_df['international_ind'] = (base_df['arrival_country_code'] != 'US').astype(int)"
   ]
  },
  {
   "cell_type": "markdown",
   "id": "dee3dc80",
   "metadata": {},
   "source": [
    "## Scoring and Ranking"
   ]
  },
  {
   "cell_type": "code",
   "execution_count": 328,
   "id": "77fe8333",
   "metadata": {},
   "outputs": [],
   "source": [
    "# List of features to scale\n",
    "scaling_features = ['tight_turn_score', 'total_bags_count', 'load_factor', 'ssr_pax_ratio']\n",
    "base_df['scheduled_departure_date_local'] = pd.to_datetime(base_df['scheduled_departure_date_local'])\n",
    "\n",
    "def calculate_daily_min_max_score(df, features):\n",
    "    \"\"\"Calculates min-max scaled score per day for a list of features.\"\"\"\n",
    "    df_scores = df.copy()\n",
    "\n",
    "    def min_max_scale(series):\n",
    "        min_val = series.min()\n",
    "        max_val = series.max()\n",
    "        if max_val == min_val:\n",
    "            return 0  # Avoid division by zero, set score to 0\n",
    "        return (series - min_val) / (max_val - min_val)\n",
    "\n",
    "    for feature in features:\n",
    "        # Group by day and apply min-max scaling\n",
    "        df_scores[f'{feature}_scaled'] = df_scores.groupby('scheduled_departure_date_local')[feature].transform(min_max_scale)\n",
    "\n",
    "    return df_scores\n",
    "\n",
    "# Apply daily scaling\n",
    "base_df = calculate_daily_min_max_score(base_df, scaling_features)\n",
    "\n",
    "# Define weights (equal weights for continuous features)\n",
    "weights = {\n",
    "    'tight_turn_score_scaled': 0.25,\n",
    "    'total_bags_count_scaled': 0.25,\n",
    "    'load_factor_scaled': 0.25,\n",
    "    'ssr_pax_ratio_scaled': 0.25,\n",
    "}\n",
    "# International flight boost: Add a fixed bonus of 0.2 to the score for international flights.\n",
    "INTERNATIONAL_BOOST = 0.2\n",
    "\n",
    "# Calculate the final composite score\n",
    "base_df['composite_score'] = (\n",
    "    base_df['tight_turn_score_scaled'] * weights['tight_turn_score_scaled'] +\n",
    "    base_df['total_bags_count_scaled'] * weights['total_bags_count_scaled'] +\n",
    "    base_df['load_factor_scaled'] * weights['load_factor_scaled'] +\n",
    "    base_df['ssr_pax_ratio_scaled'] * weights['ssr_pax_ratio_scaled']\n",
    ")\n",
    "\n",
    "# Apply the international boost\n",
    "base_df['final_difficulty_score'] = base_df['composite_score'] + (base_df['international_ind'] * INTERNATIONAL_BOOST)\n",
    "# Cap the score at 1.0 (though unlikely to exceed 1.0 significantly with a 0.2 boost)\n",
    "base_df['final_difficulty_score'] = base_df['final_difficulty_score'].clip(upper=1.0)\n",
    "\n",
    "# Ranking: Rank within each day\n",
    "base_df['difficulty_rank'] = base_df.groupby('scheduled_departure_date_local')['final_difficulty_score'].rank(method='min', ascending=False)\n",
    "\n"
   ]
  },
  {
   "cell_type": "markdown",
   "id": "ab061939",
   "metadata": {},
   "source": [
    "## Classification\n",
    "Group flights into three categories (Difficult, Medium, Easy) based on the daily rank distribution (e.g., top 20% are Difficult, next 30% are Medium, bottom 50% are Easy)."
   ]
  },
  {
   "cell_type": "code",
   "execution_count": 329,
   "id": "90651ab2",
   "metadata": {},
   "outputs": [],
   "source": [
    "def rank_to_category(rank_series):\n",
    "    \"\"\"Classifies flights based on daily rank distribution.\"\"\"\n",
    "    total_flights_in_day = rank_series.max()\n",
    "\n",
    "    # Define quantile thresholds for classification\n",
    "    # Difficult: Top 20% of flights (rank <= 0.2 * total)\n",
    "    # Medium: Next 30% (0.2 * total < rank <= 0.5 * total)\n",
    "    # Easy: Bottom 50% (rank > 0.5 * total)\n",
    "\n",
    "    rank_perc = rank_series / total_flights_in_day\n",
    "    \n",
    "    conditions = [\n",
    "        (rank_perc <= 0.20),\n",
    "        (rank_perc > 0.20) & (rank_perc <= 0.50),\n",
    "        (rank_perc > 0.50)\n",
    "    ]\n",
    "    choices = ['Difficult', 'Medium', 'Easy']\n",
    "    return np.select(conditions, choices, default='Easy')\n",
    "\n",
    "base_df['difficulty_category'] = base_df.groupby('scheduled_departure_date_local')['difficulty_rank'].transform(rank_to_category)\n",
    "\n",
    "# Select the required columns for the output file\n",
    "output_columns = [\n",
    "    'company_id', 'flight_number', 'scheduled_departure_date_local',\n",
    "    'scheduled_departure_station_code', 'scheduled_arrival_station_code',\n",
    "    'tight_turn_score', 'total_bags_count', 'load_factor', 'ssr_pax_ratio', 'international_ind',\n",
    "    'final_difficulty_score', 'difficulty_rank', 'difficulty_category'\n",
    "]\n",
    "\n",
    "difficulty_score_df = base_df[output_columns].copy()\n",
    "\n",
    "# Save the final difficulty score file\n",
    "# difficulty_score_df.to_csv(\"test_yourname.csv\", index=False)"
   ]
  },
  {
   "cell_type": "markdown",
   "id": "5d1779bb",
   "metadata": {},
   "source": [
    "# 3. Post-Analysis & Operational Insights\n"
   ]
  },
  {
   "cell_type": "markdown",
   "id": "81cae58a",
   "metadata": {},
   "source": [
    "### 1. Which destinations consistently show more difficulty?"
   ]
  },
  {
   "cell_type": "code",
   "execution_count": 330,
   "id": "2387a4ac",
   "metadata": {},
   "outputs": [
    {
     "name": "stdout",
     "output_type": "stream",
     "text": [
      "\n",
      "Top 10 Most Difficult Destinations (by Avg Difficulty Score):\n",
      "| scheduled_arrival_station_code   |   avg_difficulty_score |   perc_difficult |\n",
      "|:---------------------------------|-----------------------:|-----------------:|\n",
      "| GUA                              |               0.891447 |              100 |\n",
      "| BRU                              |               0.873805 |              100 |\n",
      "| GRU                              |               0.863346 |              100 |\n",
      "| ATH                              |               0.816497 |              100 |\n",
      "| FRA                              |               0.813662 |              100 |\n",
      "| HND                              |               0.767218 |              100 |\n",
      "| MEX                              |               0.766792 |              100 |\n",
      "| NAS                              |               0.743765 |              100 |\n",
      "| DUB                              |               0.741872 |              100 |\n",
      "| CUN                              |               0.739461 |              100 |\n"
     ]
    }
   ],
   "source": [
    "# Group by destination (scheduled_arrival_station_code)\n",
    "destination_summary = base_df.groupby('scheduled_arrival_station_code').agg(\n",
    "    avg_difficulty_score=('final_difficulty_score', 'mean'),\n",
    "    count_difficult_flights=('difficulty_category', lambda x: (x == 'Difficult').sum()),\n",
    "    total_flights=('company_id', 'count')\n",
    ").reset_index()\n",
    "\n",
    "# Calculate percentage of flights classified as difficult\n",
    "destination_summary['perc_difficult'] = (destination_summary['count_difficult_flights'] / destination_summary['total_flights']) * 100\n",
    "\n",
    "# Top 10 Most Difficult Destinations (based on average score)\n",
    "top_difficult_destinations = destination_summary.sort_values(by='avg_difficulty_score', ascending=False).head(10)\n",
    "\n",
    "print(\"\\nTop 10 Most Difficult Destinations (by Avg Difficulty Score):\")\n",
    "print(top_difficult_destinations[['scheduled_arrival_station_code', 'avg_difficulty_score', 'perc_difficult']].to_markdown(index=False))"
   ]
  },
  {
   "cell_type": "markdown",
   "id": "3c636a6c",
   "metadata": {},
   "source": [
    "### 3. What are the common drivers for those flights?\n"
   ]
  },
  {
   "cell_type": "code",
   "execution_count": 331,
   "id": "2414ffc7",
   "metadata": {},
   "outputs": [
    {
     "name": "stdout",
     "output_type": "stream",
     "text": [
      "\n",
      "Average Scaled Feature Contributions for 'Difficult' Flights:\n",
      "|                         |     0 |\n",
      "|:------------------------|------:|\n",
      "| tight_turn_score_scaled | 43.13 |\n",
      "| load_factor_scaled      | 33.00 |\n",
      "| total_bags_count_scaled | 15.66 |\n",
      "| ssr_pax_ratio_scaled    |  8.21 |\n",
      "\n",
      "Percentage of 'Difficult' flights that are International: 46.19%\n"
     ]
    }
   ],
   "source": [
    "difficult_flights_df = base_df[base_df['difficulty_category'] == 'Difficult']\n",
    "\n",
    "# Calculate the average values of the scaled features for difficult flights\n",
    "difficult_drivers = difficult_flights_df[[\n",
    "    'tight_turn_score_scaled', 'total_bags_count_scaled',\n",
    "    'load_factor_scaled', 'ssr_pax_ratio_scaled', 'international_ind'\n",
    "]].mean()\n",
    "\n",
    "# Normalize the means to see the relative contribution (approximate feature importance)\n",
    "total_mean = difficult_drivers.drop('international_ind').sum()\n",
    "feature_contributions = (difficult_drivers.drop('international_ind') / total_mean) * 100\n",
    "\n",
    "print(\"\\nAverage Scaled Feature Contributions for 'Difficult' Flights:\")\n",
    "print(feature_contributions.sort_values(ascending=False).to_markdown(floatfmt=\".2f\"))\n",
    "print(f\"\\nPercentage of 'Difficult' flights that are International: {difficult_drivers['international_ind'] * 100:.2f}%\")"
   ]
  },
  {
   "cell_type": "markdown",
   "id": "35494f38",
   "metadata": {},
   "source": [
    "## 1. Distribution of Actual Departure Delay\n"
   ]
  },
  {
   "cell_type": "code",
   "execution_count": 332,
   "id": "caac1f9a",
   "metadata": {},
   "outputs": [
    {
     "data": {
      "image/png": "[encoded data removed]",
      "text/plain": [
       "<Figure size 1000x500 with 1 Axes>"
      ]
     },
     "metadata": {},
     "output_type": "display_data"
    }
   ],
   "source": [
    "# Delay Distribution\n",
    "plt.figure(figsize=(10, 5))\n",
    "sns.histplot(base_df['actual_delay_minutes'].clip(lower=-60, upper=120), \n",
    "             bins=50, kde=True, color='skyblue')\n",
    "plt.title('Distribution of Actual Departure Delay (Minutes)')\n",
    "plt.xlabel('Departure Delay (Minutes)')\n",
    "plt.ylabel('Number of Flights')\n",
    "plt.axvline(0, color='red', linestyle='--', label='Scheduled Departure')\n",
    "plt.tight_layout()\n",
    "plt.show() # Use plt.show() to display the graph"
   ]
  },
  {
   "cell_type": "markdown",
   "id": "7229b423",
   "metadata": {},
   "source": [
    "## 2. Top 10 Most Difficult Destinations"
   ]
  },
  {
   "cell_type": "code",
   "execution_count": 333,
   "id": "196dfde3",
   "metadata": {},
   "outputs": [
    {
     "data": {
      "image/png": "[encoded data removed]",
      "text/plain": [
       "<Figure size 1000x600 with 1 Axes>"
      ]
     },
     "metadata": {},
     "output_type": "display_data"
    }
   ],
   "source": [
    "# Top 10 Most Difficult Destinations\n",
    "plt.figure(figsize=(10, 6))\n",
    "sns.barplot(\n",
    "    x='avg_difficulty_score',\n",
    "    y='scheduled_arrival_station_code',\n",
    "    data=top_difficult_destinations,\n",
    "    palette='viridis',\n",
    "    order=top_difficult_destinations['scheduled_arrival_station_code']\n",
    ")\n",
    "plt.title('Top 10 Most Difficult Destinations (by Avg Difficulty Score)')\n",
    "plt.xlabel('Average Daily Difficulty Score')\n",
    "plt.ylabel('Destination Airport (IATA)')\n",
    "plt.tight_layout()\n",
    "plt.show()"
   ]
  },
  {
   "cell_type": "markdown",
   "id": "72e5fcb4",
   "metadata": {},
   "source": [
    "## 3. Driver Contribution "
   ]
  },
  {
   "cell_type": "code",
   "execution_count": 236,
   "id": "7a9d27bc",
   "metadata": {},
   "outputs": [
    {
     "data": {
      "image/png": "[encoded data removed]",
      "text/plain": [
       "<Figure size 1000x600 with 1 Axes>"
      ]
     },
     "metadata": {},
     "output_type": "display_data"
    }
   ],
   "source": [
    "# Driver Contribution on Difficult Flights\n",
    "v4_df = feature_contributions_perc.reset_index()\n",
    "v4_df.columns = ['Feature', 'Contribution']\n",
    "\n",
    "# Clean up feature names for better presentation\n",
    "v4_df['Feature'] = v4_df['Feature'].str.replace('_scaled', '').str.replace('_', ' ').str.title()\n",
    "\n",
    "plt.figure(figsize=(10, 6))\n",
    "sns.barplot(\n",
    "    x='Contribution',\n",
    "    y='Feature',\n",
    "    data=v4_df.sort_values(by='Contribution', ascending=False),\n",
    "    palette='magma'\n",
    ")\n",
    "plt.title('Relative Contribution of Features to \"Difficult\" Flight Score')\n",
    "plt.xlabel('Relative Contribution (%)')\n",
    "plt.ylabel('Feature')\n",
    "plt.tight_layout()\n",
    "plt.show()"
   ]
  },
  {
   "cell_type": "markdown",
   "id": "b157d49a",
   "metadata": {},
   "source": [
    "# Flight Classification Based on Rank Distribution"
   ]
  },
  {
   "cell_type": "code",
   "execution_count": 247,
   "id": "9c243c1a",
   "metadata": {},
   "outputs": [
    {
     "name": "stdout",
     "output_type": "stream",
     "text": [
      "Generating: Difficulty Score Distribution Plot\n"
     ]
    },
    {
     "data": {
      "image/png": "[encoded data removed]",
      "text/plain": [
       "<Figure size 1000x600 with 1 Axes>"
      ]
     },
     "metadata": {},
     "output_type": "display_data"
    }
   ],
   "source": [
    "\n",
    "# Set a professional style for plots\n",
    "sns.set_theme(style=\"whitegrid\")\n",
    "\n",
    "# --- Visualization Generation ---\n",
    "\n",
    "# Distribution of Final Difficulty Score by Category (The previously erroring plot)\n",
    "print(\"Generating: Difficulty Score Distribution Plot\")\n",
    "plt.figure(figsize=(10, 6))\n",
    "sns.histplot(\n",
    "    data=base_df, \n",
    "    x='final_difficulty_score', \n",
    "    hue='difficulty_category',\n",
    "    multiple='stack', \n",
    "    palette={'Difficult': '#C40000', 'Medium': '#FFD700', 'Easy': '#1E90FF'}, \n",
    "    bins=40, \n",
    "    kde=True\n",
    ")\n",
    "\n",
    "plt.title('Distribution of Final Flight Difficulty Scores by Category')\n",
    "plt.xlabel('Final Difficulty Score (0.0 to 1.0)')\n",
    "plt.ylabel('Number of Flights')\n",
    "plt.xlim(0, 1.0)\n",
    "plt.legend(title='Difficulty Category', labels=['Easy', 'Medium', 'Difficult'])\n",
    "plt.tight_layout()\n",
    "plt.show() \n"
   ]
  },
  {
   "cell_type": "markdown",
   "id": "2d16be21",
   "metadata": {},
   "source": [
    "## Identify and Count Top Special Service Requests (SSRs)"
   ]
  },
  {
   "cell_type": "code",
   "execution_count": 302,
   "id": "3a1daeb4",
   "metadata": {},
   "outputs": [
    {
     "name": "stdout",
     "output_type": "stream",
     "text": [
      "\n",
      "--- Top 5 Special Service Requests (SSRs) ---\n",
      "special_service_request\n",
      "Airport Wheelchair     45738\n",
      "Manual Wheelchair       3641\n",
      "Unaccompanied Minor     1706\n",
      "Electric Wheelchair      613\n",
      "Name: count, dtype: int64\n"
     ]
    }
   ],
   "source": [
    "\n",
    "# Assuming PNR Remark Level Data.csv is in the current directory\n",
    "pnr_remark_df = pd.read_csv(\"PNR Remark Level Data.csv\")\n",
    "\n",
    "# Count the frequency of each Special Service Request\n",
    "ssr_counts = pnr_remark_df['special_service_request'].value_counts()\n",
    "\n",
    "# Display the top 5 most common SSRs\n",
    "top_5_ssrs = ssr_counts.head(5)\n",
    "\n",
    "print(\"\\n--- Top 5 Special Service Requests (SSRs) ---\")\n",
    "print(top_5_ssrs)\n",
    "# This data confirms which service requests (e.g., wheelchairs) are key drivers of complexity."
   ]
  },
  {
   "cell_type": "markdown",
   "id": "254a73eb",
   "metadata": {},
   "source": [
    "## Calculate Mean Transfer Bag Ratio"
   ]
  },
  {
   "cell_type": "code",
   "execution_count": 303,
   "id": "2d23a8cc",
   "metadata": {},
   "outputs": [
    {
     "name": "stdout",
     "output_type": "stream",
     "text": [
      "Mean Transfer Bag Ratio: 0.6381\n"
     ]
    }
   ],
   "source": [
    "\n",
    "# Assuming Bag+Level+Data.csv is in the current directory\n",
    "bag_df = pd.read_csv(\"Bag+Level+Data.csv\")\n",
    "\n",
    "# Group bag data by flight to count 'Origin' and 'Transfer' bags\n",
    "bag_counts = bag_df.groupby(['company_id', 'flight_number', 'scheduled_departure_date_local', 'bag_type']).size().reset_index(name='count')\n",
    "bag_pivot = bag_counts.pivot_table(\n",
    "    index=['company_id', 'flight_number', 'scheduled_departure_date_local'],\n",
    "    columns='bag_type',\n",
    "    values='count',\n",
    "    fill_value=0\n",
    ").reset_index()\n",
    "\n",
    "# Rename and calculate total bags\n",
    "bag_pivot.rename(columns={'Origin': 'Total_Origin_Bags', 'Transfer': 'Total_Transfer_Bags'}, inplace=True)\n",
    "bag_pivot['Total_Checked_Bags'] = bag_pivot['Total_Origin_Bags'] + bag_pivot['Total_Transfer_Bags']\n",
    "\n",
    "# Calculate Transfer Bag Ratio (TBR)\n",
    "bag_pivot['Transfer_Bag_Ratio'] = np.where(\n",
    "    bag_pivot['Total_Checked_Bags'] > 0,\n",
    "    bag_pivot['Total_Transfer_Bags'] / bag_pivot['Total_Checked_Bags'],\n",
    "    0\n",
    ")\n",
    "\n",
    "# Print the mean ratio\n",
    "mean_tbr = bag_pivot['Transfer_Bag_Ratio'].mean()\n",
    "print(f\"Mean Transfer Bag Ratio: {mean_tbr:.4f}\")\n",
    "# This value helps you understand the baseline baggage complexity."
   ]
  },
  {
   "cell_type": "code",
   "execution_count": 341,
   "id": "353adb45",
   "metadata": {},
   "outputs": [
    {
     "name": "stdout",
     "output_type": "stream",
     "text": [
      "Loading datasets...\n",
      "Aggregating Passenger and Complex Passenger features...\n",
      "Aggregating Special Service Request (SSR) features...\n",
      "Aggregating Baggage features...\n",
      "Calculating Operational Tightness score...\n",
      "Merging all features...\n",
      "Normalizing features...\n",
      "Calculating Final Difficulty Score...\n",
      "Applying Daily Ranking and Classification...\n",
      "Generating final output file: daily_flight_scores.csv\n",
      "\n",
      "--- Process Complete ---\n",
      "Results saved to 'daily_flight_scores.csv'.\n",
      "Example of Top 10 Most Difficult Flights Overall:\n",
      "            Date Carrier  Flight_Number Origin Destination  Total_Seats  \\\n",
      "3268  2025-08-13      UA            972    ORD         BRU          318   \n",
      "3763  2025-08-14      UA            972    ORD         BRU          318   \n",
      "5895  2025-08-02      UA            972    ORD         BRU          318   \n",
      "4009  2025-08-07      UA            845    ORD         GRU          318   \n",
      "3318  2025-08-11      UA            972    ORD         BRU          318   \n",
      "1058  2025-08-12      UA            972    ORD         BRU          318   \n",
      "7266  2025-08-11      UA            845    ORD         GRU          318   \n",
      "1152  2025-08-04      UA            972    ORD         BRU          318   \n",
      "558   2025-08-09      UA            881    ORD         HND          318   \n",
      "6363  2025-08-09      UA            881    ORD         HND          318   \n",
      "\n",
      "      Difficulty_Score (0-1)  Daily_Rank Difficulty_Category  \n",
      "3268                  0.7772         1.0           Difficult  \n",
      "3763                  0.6485         1.0           Difficult  \n",
      "5895                  0.6377         1.0           Difficult  \n",
      "4009                  0.6273         1.0           Difficult  \n",
      "3318                  0.6201         1.0           Difficult  \n",
      "1058                  0.6191         1.0           Difficult  \n",
      "7266                  0.5940         2.0           Difficult  \n",
      "1152                  0.5912         1.0           Difficult  \n",
      "558                   0.5881         1.0           Difficult  \n",
      "6363                  0.5881         1.0           Difficult  \n"
     ]
    }
   ],
   "source": [
    "import pandas as pd\n",
    "import numpy as np\n",
    "\n",
    "# --- 1. Load Data ---\n",
    "# Assuming all CSV files are in the same directory as this script.\n",
    "print(\"Loading datasets...\")\n",
    "try:\n",
    "    flight_df = pd.read_csv(\"Flight Level Data.csv\")\n",
    "    bag_df = pd.read_csv(\"Bag+Level+Data.csv\")\n",
    "    pnr_flight_df = pd.read_csv(\"PNR+Flight+Level+Data.csv\")\n",
    "    pnr_remark_df = pd.read_csv(\"PNR Remark Level Data.csv\")\n",
    "except FileNotFoundError as e:\n",
    "    print(f\"Error: One of the required files was not found. Please ensure all CSVs are in the same directory. Missing file: {e.filename}\")\n",
    "    exit()\n",
    "\n",
    "# Define the common key for joining datasets at the flight-day level\n",
    "KEY_COLS = ['company_id', 'flight_number', 'scheduled_departure_date_local']\n",
    "\n",
    "# --- 2. Feature Engineering ---\n",
    "\n",
    "# A. Passenger Load and Complex Passengers\n",
    "print(\"Aggregating Passenger and Complex Passenger features...\")\n",
    "pax_features = pnr_flight_df.copy()\n",
    "# Convert 'Y'/'N' indicators to numeric (1/0)\n",
    "pax_features['is_child_num'] = pax_features['is_child'].apply(lambda x: 1 if x == 'Y' else 0)\n",
    "pax_features['is_stroller_user_num'] = pax_features['is_stroller_user'].apply(lambda x: 1 if x == 'Y' else 0)\n",
    "\n",
    "# Calculate a single 'complex_pax_count' per PNR-Flight row\n",
    "pax_features['complex_pax'] = (\n",
    "    pax_features['is_child_num'] +\n",
    "    pax_features['is_stroller_user_num'] +\n",
    "    pax_features['lap_child_count'] # This is already a count\n",
    ")\n",
    "\n",
    "# Aggregate per flight-day\n",
    "pax_agg = pax_features.groupby(KEY_COLS).agg(\n",
    "    total_pax_sum=('total_pax', 'sum'),\n",
    "    complex_pax_count=('complex_pax', 'sum')\n",
    ").reset_index()\n",
    "\n",
    "\n",
    "# B. Special Service Requests (SSR) Count\n",
    "print(\"Aggregating Special Service Request (SSR) features...\")\n",
    "# Count SSRs per PNR\n",
    "pnr_remark_count = pnr_remark_df.groupby('record_locator').size().reset_index(name='ssr_count_pnr')\n",
    "# Join PNR-level SSR count back to PNR-Flight data\n",
    "pnr_ssr_merged = pnr_flight_df.merge(pnr_remark_count, on='record_locator', how='left').fillna(0)\n",
    "\n",
    "# Aggregate total SSR count per flight-day\n",
    "ssr_agg = pnr_ssr_merged.groupby(KEY_COLS)['ssr_count_pnr'].sum().reset_index(name='ssr_count')\n",
    "\n",
    "\n",
    "# C. Baggage and Transfer Bags\n",
    "print(\"Aggregating Baggage features...\")\n",
    "bag_agg = bag_df.groupby(KEY_COLS).agg(\n",
    "    total_bag_count=('bag_tag_unique_number', 'count'),\n",
    "    transfer_bag_count=('bag_type', lambda x: (x == 'Transfer').sum())\n",
    ").reset_index()\n",
    "\n",
    "\n",
    "# D. Operational Tightness (Tight Turn Score)\n",
    "print(\"Calculating Operational Tightness score...\")\n",
    "# Calculate the difference between scheduled and minimum turn time\n",
    "flight_df['turn_time_diff'] = (\n",
    "    flight_df['scheduled_ground_time_minutes'] - flight_df['minimum_turn_minutes']\n",
    ")\n",
    "\n",
    "# A smaller difference means a tighter, more difficult turn.\n",
    "# We use the inverse of the difference (clipping the minimum diff to 1 to avoid division by zero\n",
    "# and assigning maximum difficulty to flights with the tightest turn.\n",
    "epsilon = 1 # Ensures even a 0-minute margin results in a high score\n",
    "flight_df['tight_turn_score_raw'] = 1 / (flight_df['turn_time_diff'].clip(lower=1) + epsilon)\n",
    "\n",
    "\n",
    "# --- 3. Merge Features into Base DataFrame ---\n",
    "print(\"Merging all features...\")\n",
    "base_df = flight_df.merge(pax_agg, on=KEY_COLS, how='left')\n",
    "base_df = base_df.merge(ssr_agg, on=KEY_COLS, how='left')\n",
    "base_df = base_df.merge(bag_agg, on=KEY_COLS, how='left')\n",
    "\n",
    "# Fill NaN values (for flights that had no PNR/Bag data) with 0.\n",
    "# These represent the easiest flights in terms of complexity drivers.\n",
    "features_to_fill = ['total_pax_sum', 'complex_pax_count', 'ssr_count', 'total_bag_count', 'transfer_bag_count']\n",
    "base_df[features_to_fill] = base_df[features_to_fill].fillna(0)\n",
    "\n",
    "\n",
    "# --- 4. Scoring and Normalization ---\n",
    "\n",
    "# Define the features and their weights\n",
    "DIFFICULTY_DRIVERS = {\n",
    "    'total_pax_sum': 0.20,\n",
    "    'ssr_count': 0.30,\n",
    "    'transfer_bag_count': 0.25,\n",
    "    'complex_pax_count': 0.15,\n",
    "    'tight_turn_score_raw': 0.10,\n",
    "}\n",
    "feature_cols = list(DIFFICULTY_DRIVERS.keys())\n",
    "\n",
    "# A. Min-Max Normalization (Scale all features to 0-1)\n",
    "# This uses the entire dataset's min/max to establish absolute difficulty range.\n",
    "print(\"Normalizing features...\")\n",
    "normalized_df = base_df[feature_cols].copy()\n",
    "for col in feature_cols:\n",
    "    min_val = base_df[col].min()\n",
    "    max_val = base_df[col].max()\n",
    "\n",
    "    # Avoid division by zero if all values are the same (max_val == min_val)\n",
    "    if max_val > min_val:\n",
    "        normalized_df[col + '_norm'] = (base_df[col] - min_val) / (max_val - min_val)\n",
    "    else:\n",
    "        normalized_df[col + '_norm'] = 0.0 # Assign 0 if no variation\n",
    "\n",
    "# B. Calculate Weighted Difficulty Score\n",
    "print(\"Calculating Final Difficulty Score...\")\n",
    "base_df['raw_difficulty_score'] = 0\n",
    "for feature, weight in DIFFICULTY_DRIVERS.items():\n",
    "    norm_col = feature + '_norm'\n",
    "    # Add the weighted, normalized score to the total\n",
    "    base_df['raw_difficulty_score'] += normalized_df[norm_col] * weight\n",
    "\n",
    "# The raw score is already normalized due to the weighted sum of 0-1 scores, but we can call the final column:\n",
    "base_df['final_difficulty_score'] = base_df['raw_difficulty_score'].round(4)\n",
    "\n",
    "\n",
    "# --- 5. Daily Ranking and Classification ---\n",
    "\n",
    "# Group by the date and apply ranking and classification *within* each day.\n",
    "print(\"Applying Daily Ranking and Classification...\")\n",
    "\n",
    "# A. Daily Ranking (Highest score = Rank 1)\n",
    "# method='min' handles ties by giving them the same rank (e.g., 1, 2, 2, 4)\n",
    "base_df['daily_difficulty_rank'] = (\n",
    "    base_df.groupby('scheduled_departure_date_local')['final_difficulty_score']\n",
    "    .rank(method='min', ascending=False)\n",
    ")\n",
    "\n",
    "# B. Daily Classification (Using Tertiles/Quantiles for a daily reset)\n",
    "def classify_difficulty_by_rank(series):\n",
    "    \"\"\"Classifies scores based on daily tertiles (33.3rd and 66.7th percentiles).\"\"\"\n",
    "    # Calculate daily 66.7th (Difficult/Medium cutoff) and 33.3rd (Medium/Easy cutoff) percentiles\n",
    "    # Note: We classify based on score, but the ranking reflects the score's position.\n",
    "    \n",
    "    # Quantiles based on score (higher score is more difficult)\n",
    "    q_difficult = series.quantile(0.667)\n",
    "    q_medium = series.quantile(0.333)\n",
    "\n",
    "    conditions = [\n",
    "        series >= q_difficult,\n",
    "        (series >= q_medium) & (series < q_difficult),\n",
    "        series < q_medium\n",
    "    ]\n",
    "    choices = ['Difficult', 'Medium', 'Easy']\n",
    "    \n",
    "    return np.select(conditions, choices)\n",
    "\n",
    "# Apply the classification function grouped by date\n",
    "base_df['difficulty_category'] = base_df.groupby('scheduled_departure_date_local')['final_difficulty_score'].transform(classify_difficulty_by_rank)\n",
    "\n",
    "\n",
    "# --- 6. Final Output Generation ---\n",
    "print(\"Generating final output file: daily_flight_scores.csv\")\n",
    "\n",
    "# Select final columns for the user\n",
    "output_cols = [\n",
    "    'scheduled_departure_date_local',\n",
    "    'company_id',\n",
    "    'flight_number',\n",
    "    'scheduled_departure_station_code',\n",
    "    'scheduled_arrival_station_code',\n",
    "    'total_seats',\n",
    "    'final_difficulty_score',\n",
    "    'daily_difficulty_rank',\n",
    "    'difficulty_category'\n",
    "]\n",
    "\n",
    "final_output = base_df[output_cols].sort_values(\n",
    "    by=['scheduled_departure_date_local', 'daily_difficulty_rank'],\n",
    "    ascending=[True, True]\n",
    ")\n",
    "\n",
    "# Rename for clarity\n",
    "final_output.columns = [\n",
    "    'Date',\n",
    "    'Carrier',\n",
    "    'Flight_Number',\n",
    "    'Origin',\n",
    "    'Destination',\n",
    "    'Total_Seats',\n",
    "    'Difficulty_Score (0-1)',\n",
    "    'Daily_Rank',\n",
    "    'Difficulty_Category'\n",
    "]\n",
    "\n",
    "# Save the resulting DataFrame to a new CSV file\n",
    "final_output.to_csv(\"daily_flight_scores.csv\", index=False)\n",
    "\n",
    "print(\"\\n--- Process Complete ---\")\n",
    "print(f\"Results saved to 'daily_flight_scores.csv'.\")\n",
    "print(\"Example of Top 10 Most Difficult Flights Overall:\")\n",
    "print(final_output.sort_values(by='Difficulty_Score (0-1)', ascending=False).head(10))\n"
   ]
  },
  {
   "cell_type": "code",
   "execution_count": null,
   "id": "0bbfbad0",
   "metadata": {},
   "outputs": [],
   "source": []
  }
 ],
 "metadata": {
  "kernelspec": {
   "display_name": "Python 3 (ipykernel)",
   "language": "python",
   "name": "python3"
  },
  "language_info": {
   "codemirror_mode": {
    "name": "ipython",
    "version": 3
   },
   "file_extension": ".py",
   "mimetype": "text/x-python",
   "name": "python",
   "nbconvert_exporter": "python",
   "pygments_lexer": "ipython3",
   "version": "3.11.5"
  }
 },
 "nbformat": 4,
 "nbformat_minor": 5
}
